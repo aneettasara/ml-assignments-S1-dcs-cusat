{
  "nbformat": 4,
  "nbformat_minor": 0,
  "metadata": {
    "colab": {
      "provenance": []
    },
    "kernelspec": {
      "name": "python3",
      "display_name": "Python 3"
    },
    "language_info": {
      "name": "python"
    }
  },
  "cells": [
    {
      "cell_type": "markdown",
      "source": [
        "#**Iris Flower Regression Project using Machine Learning to predict Sepal length**\n",
        "<br>\n",
        "\n",
        "*   The iris dataset contains three classes of flowers, Versicolor, Setosa, Virginica.\n",
        "*   Each class contains 4 features, ‘Sepal length’, ‘Sepal width’, ‘Petal length’, ‘Petal width’.\n",
        "*   The aim of the iris flower regression is to predict sepal length of the flowers based on their specific features.\n"
      ],
      "metadata": {
        "id": "H6a2yvq3GkCw"
      }
    },
    {
      "cell_type": "markdown",
      "source": [
        "**Parameters considered for Regression:**\n",
        "\n",
        "Features: \n",
        "* Sepal Width (SW)\n",
        "* Petal Length (PL)\n",
        "* Petal Width (PW)\n",
        "\n",
        "Target:\n",
        "<br>Sepal Length (SL)\n",
        "\n",
        "**Steps to predict sepal length of given Iris Flower:**\n",
        "\n",
        "1. Load the data\n",
        "2. Analyze and visualize the dataset\n",
        "3. Model training.\n",
        "4. Model Evaluation.\n",
        "5. Testing the model."
      ],
      "metadata": {
        "id": "SXQ-qXBRIw1o"
      }
    },
    {
      "cell_type": "markdown",
      "source": [
        "# Step 1 – Load the data"
      ],
      "metadata": {
        "id": "tkcSu2dgJG_v"
      }
    },
    {
      "cell_type": "code",
      "source": [
        "# Import Packages\n",
        "import numpy as np\n",
        "import matplotlib.pyplot as plt\n",
        "import seaborn as sns\n",
        "import pandas as pd\n",
        "%matplotlib inline"
      ],
      "metadata": {
        "id": "UWiVxD4rHkCo"
      },
      "execution_count": 1,
      "outputs": []
    },
    {
      "cell_type": "code",
      "execution_count": 2,
      "metadata": {
        "id": "ScjCpXlbF_Ot"
      },
      "outputs": [],
      "source": [
        "# loading dataset\n",
        "from sklearn.datasets import load_iris"
      ]
    },
    {
      "cell_type": "code",
      "source": [
        "iris_data = load_iris()\n",
        "df = pd.DataFrame(data=iris_data.data, columns=iris_data.feature_names)\n",
        "df.head()"
      ],
      "metadata": {
        "colab": {
          "base_uri": "https://localhost:8080/",
          "height": 206
        },
        "id": "_e_wNOxQHWHt",
        "outputId": "2ff87289-3d85-40f7-ec55-e89d6993d9b6"
      },
      "execution_count": 3,
      "outputs": [
        {
          "output_type": "execute_result",
          "data": {
            "text/plain": [
              "   sepal length (cm)  sepal width (cm)  petal length (cm)  petal width (cm)\n",
              "0                5.1               3.5                1.4               0.2\n",
              "1                4.9               3.0                1.4               0.2\n",
              "2                4.7               3.2                1.3               0.2\n",
              "3                4.6               3.1                1.5               0.2\n",
              "4                5.0               3.6                1.4               0.2"
            ],
            "text/html": [
              "\n",
              "  <div id=\"df-59b03d1d-1c04-4cab-b27c-46e8a1a2d2a4\">\n",
              "    <div class=\"colab-df-container\">\n",
              "      <div>\n",
              "<style scoped>\n",
              "    .dataframe tbody tr th:only-of-type {\n",
              "        vertical-align: middle;\n",
              "    }\n",
              "\n",
              "    .dataframe tbody tr th {\n",
              "        vertical-align: top;\n",
              "    }\n",
              "\n",
              "    .dataframe thead th {\n",
              "        text-align: right;\n",
              "    }\n",
              "</style>\n",
              "<table border=\"1\" class=\"dataframe\">\n",
              "  <thead>\n",
              "    <tr style=\"text-align: right;\">\n",
              "      <th></th>\n",
              "      <th>sepal length (cm)</th>\n",
              "      <th>sepal width (cm)</th>\n",
              "      <th>petal length (cm)</th>\n",
              "      <th>petal width (cm)</th>\n",
              "    </tr>\n",
              "  </thead>\n",
              "  <tbody>\n",
              "    <tr>\n",
              "      <th>0</th>\n",
              "      <td>5.1</td>\n",
              "      <td>3.5</td>\n",
              "      <td>1.4</td>\n",
              "      <td>0.2</td>\n",
              "    </tr>\n",
              "    <tr>\n",
              "      <th>1</th>\n",
              "      <td>4.9</td>\n",
              "      <td>3.0</td>\n",
              "      <td>1.4</td>\n",
              "      <td>0.2</td>\n",
              "    </tr>\n",
              "    <tr>\n",
              "      <th>2</th>\n",
              "      <td>4.7</td>\n",
              "      <td>3.2</td>\n",
              "      <td>1.3</td>\n",
              "      <td>0.2</td>\n",
              "    </tr>\n",
              "    <tr>\n",
              "      <th>3</th>\n",
              "      <td>4.6</td>\n",
              "      <td>3.1</td>\n",
              "      <td>1.5</td>\n",
              "      <td>0.2</td>\n",
              "    </tr>\n",
              "    <tr>\n",
              "      <th>4</th>\n",
              "      <td>5.0</td>\n",
              "      <td>3.6</td>\n",
              "      <td>1.4</td>\n",
              "      <td>0.2</td>\n",
              "    </tr>\n",
              "  </tbody>\n",
              "</table>\n",
              "</div>\n",
              "      <button class=\"colab-df-convert\" onclick=\"convertToInteractive('df-59b03d1d-1c04-4cab-b27c-46e8a1a2d2a4')\"\n",
              "              title=\"Convert this dataframe to an interactive table.\"\n",
              "              style=\"display:none;\">\n",
              "        \n",
              "  <svg xmlns=\"http://www.w3.org/2000/svg\" height=\"24px\"viewBox=\"0 0 24 24\"\n",
              "       width=\"24px\">\n",
              "    <path d=\"M0 0h24v24H0V0z\" fill=\"none\"/>\n",
              "    <path d=\"M18.56 5.44l.94 2.06.94-2.06 2.06-.94-2.06-.94-.94-2.06-.94 2.06-2.06.94zm-11 1L8.5 8.5l.94-2.06 2.06-.94-2.06-.94L8.5 2.5l-.94 2.06-2.06.94zm10 10l.94 2.06.94-2.06 2.06-.94-2.06-.94-.94-2.06-.94 2.06-2.06.94z\"/><path d=\"M17.41 7.96l-1.37-1.37c-.4-.4-.92-.59-1.43-.59-.52 0-1.04.2-1.43.59L10.3 9.45l-7.72 7.72c-.78.78-.78 2.05 0 2.83L4 21.41c.39.39.9.59 1.41.59.51 0 1.02-.2 1.41-.59l7.78-7.78 2.81-2.81c.8-.78.8-2.07 0-2.86zM5.41 20L4 18.59l7.72-7.72 1.47 1.35L5.41 20z\"/>\n",
              "  </svg>\n",
              "      </button>\n",
              "      \n",
              "  <style>\n",
              "    .colab-df-container {\n",
              "      display:flex;\n",
              "      flex-wrap:wrap;\n",
              "      gap: 12px;\n",
              "    }\n",
              "\n",
              "    .colab-df-convert {\n",
              "      background-color: #E8F0FE;\n",
              "      border: none;\n",
              "      border-radius: 50%;\n",
              "      cursor: pointer;\n",
              "      display: none;\n",
              "      fill: #1967D2;\n",
              "      height: 32px;\n",
              "      padding: 0 0 0 0;\n",
              "      width: 32px;\n",
              "    }\n",
              "\n",
              "    .colab-df-convert:hover {\n",
              "      background-color: #E2EBFA;\n",
              "      box-shadow: 0px 1px 2px rgba(60, 64, 67, 0.3), 0px 1px 3px 1px rgba(60, 64, 67, 0.15);\n",
              "      fill: #174EA6;\n",
              "    }\n",
              "\n",
              "    [theme=dark] .colab-df-convert {\n",
              "      background-color: #3B4455;\n",
              "      fill: #D2E3FC;\n",
              "    }\n",
              "\n",
              "    [theme=dark] .colab-df-convert:hover {\n",
              "      background-color: #434B5C;\n",
              "      box-shadow: 0px 1px 3px 1px rgba(0, 0, 0, 0.15);\n",
              "      filter: drop-shadow(0px 1px 2px rgba(0, 0, 0, 0.3));\n",
              "      fill: #FFFFFF;\n",
              "    }\n",
              "  </style>\n",
              "\n",
              "      <script>\n",
              "        const buttonEl =\n",
              "          document.querySelector('#df-59b03d1d-1c04-4cab-b27c-46e8a1a2d2a4 button.colab-df-convert');\n",
              "        buttonEl.style.display =\n",
              "          google.colab.kernel.accessAllowed ? 'block' : 'none';\n",
              "\n",
              "        async function convertToInteractive(key) {\n",
              "          const element = document.querySelector('#df-59b03d1d-1c04-4cab-b27c-46e8a1a2d2a4');\n",
              "          const dataTable =\n",
              "            await google.colab.kernel.invokeFunction('convertToInteractive',\n",
              "                                                     [key], {});\n",
              "          if (!dataTable) return;\n",
              "\n",
              "          const docLinkHtml = 'Like what you see? Visit the ' +\n",
              "            '<a target=\"_blank\" href=https://colab.research.google.com/notebooks/data_table.ipynb>data table notebook</a>'\n",
              "            + ' to learn more about interactive tables.';\n",
              "          element.innerHTML = '';\n",
              "          dataTable['output_type'] = 'display_data';\n",
              "          await google.colab.output.renderOutput(dataTable, element);\n",
              "          const docLink = document.createElement('div');\n",
              "          docLink.innerHTML = docLinkHtml;\n",
              "          element.appendChild(docLink);\n",
              "        }\n",
              "      </script>\n",
              "    </div>\n",
              "  </div>\n",
              "  "
            ]
          },
          "metadata": {},
          "execution_count": 3
        }
      ]
    },
    {
      "cell_type": "code",
      "source": [
        "df"
      ],
      "metadata": {
        "id": "W0sEGHVaN6t9",
        "colab": {
          "base_uri": "https://localhost:8080/",
          "height": 424
        },
        "outputId": "2b86c0e7-f00f-45de-f07a-f94e20757f9f"
      },
      "execution_count": 4,
      "outputs": [
        {
          "output_type": "execute_result",
          "data": {
            "text/plain": [
              "     sepal length (cm)  sepal width (cm)  petal length (cm)  petal width (cm)\n",
              "0                  5.1               3.5                1.4               0.2\n",
              "1                  4.9               3.0                1.4               0.2\n",
              "2                  4.7               3.2                1.3               0.2\n",
              "3                  4.6               3.1                1.5               0.2\n",
              "4                  5.0               3.6                1.4               0.2\n",
              "..                 ...               ...                ...               ...\n",
              "145                6.7               3.0                5.2               2.3\n",
              "146                6.3               2.5                5.0               1.9\n",
              "147                6.5               3.0                5.2               2.0\n",
              "148                6.2               3.4                5.4               2.3\n",
              "149                5.9               3.0                5.1               1.8\n",
              "\n",
              "[150 rows x 4 columns]"
            ],
            "text/html": [
              "\n",
              "  <div id=\"df-e41cec8b-1cfd-4d0f-9f72-0cbf2cf0f4e4\">\n",
              "    <div class=\"colab-df-container\">\n",
              "      <div>\n",
              "<style scoped>\n",
              "    .dataframe tbody tr th:only-of-type {\n",
              "        vertical-align: middle;\n",
              "    }\n",
              "\n",
              "    .dataframe tbody tr th {\n",
              "        vertical-align: top;\n",
              "    }\n",
              "\n",
              "    .dataframe thead th {\n",
              "        text-align: right;\n",
              "    }\n",
              "</style>\n",
              "<table border=\"1\" class=\"dataframe\">\n",
              "  <thead>\n",
              "    <tr style=\"text-align: right;\">\n",
              "      <th></th>\n",
              "      <th>sepal length (cm)</th>\n",
              "      <th>sepal width (cm)</th>\n",
              "      <th>petal length (cm)</th>\n",
              "      <th>petal width (cm)</th>\n",
              "    </tr>\n",
              "  </thead>\n",
              "  <tbody>\n",
              "    <tr>\n",
              "      <th>0</th>\n",
              "      <td>5.1</td>\n",
              "      <td>3.5</td>\n",
              "      <td>1.4</td>\n",
              "      <td>0.2</td>\n",
              "    </tr>\n",
              "    <tr>\n",
              "      <th>1</th>\n",
              "      <td>4.9</td>\n",
              "      <td>3.0</td>\n",
              "      <td>1.4</td>\n",
              "      <td>0.2</td>\n",
              "    </tr>\n",
              "    <tr>\n",
              "      <th>2</th>\n",
              "      <td>4.7</td>\n",
              "      <td>3.2</td>\n",
              "      <td>1.3</td>\n",
              "      <td>0.2</td>\n",
              "    </tr>\n",
              "    <tr>\n",
              "      <th>3</th>\n",
              "      <td>4.6</td>\n",
              "      <td>3.1</td>\n",
              "      <td>1.5</td>\n",
              "      <td>0.2</td>\n",
              "    </tr>\n",
              "    <tr>\n",
              "      <th>4</th>\n",
              "      <td>5.0</td>\n",
              "      <td>3.6</td>\n",
              "      <td>1.4</td>\n",
              "      <td>0.2</td>\n",
              "    </tr>\n",
              "    <tr>\n",
              "      <th>...</th>\n",
              "      <td>...</td>\n",
              "      <td>...</td>\n",
              "      <td>...</td>\n",
              "      <td>...</td>\n",
              "    </tr>\n",
              "    <tr>\n",
              "      <th>145</th>\n",
              "      <td>6.7</td>\n",
              "      <td>3.0</td>\n",
              "      <td>5.2</td>\n",
              "      <td>2.3</td>\n",
              "    </tr>\n",
              "    <tr>\n",
              "      <th>146</th>\n",
              "      <td>6.3</td>\n",
              "      <td>2.5</td>\n",
              "      <td>5.0</td>\n",
              "      <td>1.9</td>\n",
              "    </tr>\n",
              "    <tr>\n",
              "      <th>147</th>\n",
              "      <td>6.5</td>\n",
              "      <td>3.0</td>\n",
              "      <td>5.2</td>\n",
              "      <td>2.0</td>\n",
              "    </tr>\n",
              "    <tr>\n",
              "      <th>148</th>\n",
              "      <td>6.2</td>\n",
              "      <td>3.4</td>\n",
              "      <td>5.4</td>\n",
              "      <td>2.3</td>\n",
              "    </tr>\n",
              "    <tr>\n",
              "      <th>149</th>\n",
              "      <td>5.9</td>\n",
              "      <td>3.0</td>\n",
              "      <td>5.1</td>\n",
              "      <td>1.8</td>\n",
              "    </tr>\n",
              "  </tbody>\n",
              "</table>\n",
              "<p>150 rows × 4 columns</p>\n",
              "</div>\n",
              "      <button class=\"colab-df-convert\" onclick=\"convertToInteractive('df-e41cec8b-1cfd-4d0f-9f72-0cbf2cf0f4e4')\"\n",
              "              title=\"Convert this dataframe to an interactive table.\"\n",
              "              style=\"display:none;\">\n",
              "        \n",
              "  <svg xmlns=\"http://www.w3.org/2000/svg\" height=\"24px\"viewBox=\"0 0 24 24\"\n",
              "       width=\"24px\">\n",
              "    <path d=\"M0 0h24v24H0V0z\" fill=\"none\"/>\n",
              "    <path d=\"M18.56 5.44l.94 2.06.94-2.06 2.06-.94-2.06-.94-.94-2.06-.94 2.06-2.06.94zm-11 1L8.5 8.5l.94-2.06 2.06-.94-2.06-.94L8.5 2.5l-.94 2.06-2.06.94zm10 10l.94 2.06.94-2.06 2.06-.94-2.06-.94-.94-2.06-.94 2.06-2.06.94z\"/><path d=\"M17.41 7.96l-1.37-1.37c-.4-.4-.92-.59-1.43-.59-.52 0-1.04.2-1.43.59L10.3 9.45l-7.72 7.72c-.78.78-.78 2.05 0 2.83L4 21.41c.39.39.9.59 1.41.59.51 0 1.02-.2 1.41-.59l7.78-7.78 2.81-2.81c.8-.78.8-2.07 0-2.86zM5.41 20L4 18.59l7.72-7.72 1.47 1.35L5.41 20z\"/>\n",
              "  </svg>\n",
              "      </button>\n",
              "      \n",
              "  <style>\n",
              "    .colab-df-container {\n",
              "      display:flex;\n",
              "      flex-wrap:wrap;\n",
              "      gap: 12px;\n",
              "    }\n",
              "\n",
              "    .colab-df-convert {\n",
              "      background-color: #E8F0FE;\n",
              "      border: none;\n",
              "      border-radius: 50%;\n",
              "      cursor: pointer;\n",
              "      display: none;\n",
              "      fill: #1967D2;\n",
              "      height: 32px;\n",
              "      padding: 0 0 0 0;\n",
              "      width: 32px;\n",
              "    }\n",
              "\n",
              "    .colab-df-convert:hover {\n",
              "      background-color: #E2EBFA;\n",
              "      box-shadow: 0px 1px 2px rgba(60, 64, 67, 0.3), 0px 1px 3px 1px rgba(60, 64, 67, 0.15);\n",
              "      fill: #174EA6;\n",
              "    }\n",
              "\n",
              "    [theme=dark] .colab-df-convert {\n",
              "      background-color: #3B4455;\n",
              "      fill: #D2E3FC;\n",
              "    }\n",
              "\n",
              "    [theme=dark] .colab-df-convert:hover {\n",
              "      background-color: #434B5C;\n",
              "      box-shadow: 0px 1px 3px 1px rgba(0, 0, 0, 0.15);\n",
              "      filter: drop-shadow(0px 1px 2px rgba(0, 0, 0, 0.3));\n",
              "      fill: #FFFFFF;\n",
              "    }\n",
              "  </style>\n",
              "\n",
              "      <script>\n",
              "        const buttonEl =\n",
              "          document.querySelector('#df-e41cec8b-1cfd-4d0f-9f72-0cbf2cf0f4e4 button.colab-df-convert');\n",
              "        buttonEl.style.display =\n",
              "          google.colab.kernel.accessAllowed ? 'block' : 'none';\n",
              "\n",
              "        async function convertToInteractive(key) {\n",
              "          const element = document.querySelector('#df-e41cec8b-1cfd-4d0f-9f72-0cbf2cf0f4e4');\n",
              "          const dataTable =\n",
              "            await google.colab.kernel.invokeFunction('convertToInteractive',\n",
              "                                                     [key], {});\n",
              "          if (!dataTable) return;\n",
              "\n",
              "          const docLinkHtml = 'Like what you see? Visit the ' +\n",
              "            '<a target=\"_blank\" href=https://colab.research.google.com/notebooks/data_table.ipynb>data table notebook</a>'\n",
              "            + ' to learn more about interactive tables.';\n",
              "          element.innerHTML = '';\n",
              "          dataTable['output_type'] = 'display_data';\n",
              "          await google.colab.output.renderOutput(dataTable, element);\n",
              "          const docLink = document.createElement('div');\n",
              "          docLink.innerHTML = docLinkHtml;\n",
              "          element.appendChild(docLink);\n",
              "        }\n",
              "      </script>\n",
              "    </div>\n",
              "  </div>\n",
              "  "
            ]
          },
          "metadata": {},
          "execution_count": 4
        }
      ]
    },
    {
      "cell_type": "markdown",
      "source": [
        "#Step 2 – Analyze and visualize the dataset"
      ],
      "metadata": {
        "id": "eSjVDl8CJrpJ"
      }
    },
    {
      "cell_type": "code",
      "source": [
        "# Separate features and target  \n",
        "data = df.values\n",
        "\n",
        "X = data[:,1:4] #features\n",
        "Y = data[:,0] #target "
      ],
      "metadata": {
        "id": "7DZCa8n-JuhL"
      },
      "execution_count": 6,
      "outputs": []
    },
    {
      "cell_type": "code",
      "source": [
        "print(X)"
      ],
      "metadata": {
        "id": "51wrwOMyJsUk",
        "colab": {
          "base_uri": "https://localhost:8080/"
        },
        "outputId": "a7a22263-03d1-424e-f9ef-f62274eb2d18"
      },
      "execution_count": 7,
      "outputs": [
        {
          "output_type": "stream",
          "name": "stdout",
          "text": [
            "[[3.5 1.4 0.2]\n",
            " [3.  1.4 0.2]\n",
            " [3.2 1.3 0.2]\n",
            " [3.1 1.5 0.2]\n",
            " [3.6 1.4 0.2]\n",
            " [3.9 1.7 0.4]\n",
            " [3.4 1.4 0.3]\n",
            " [3.4 1.5 0.2]\n",
            " [2.9 1.4 0.2]\n",
            " [3.1 1.5 0.1]\n",
            " [3.7 1.5 0.2]\n",
            " [3.4 1.6 0.2]\n",
            " [3.  1.4 0.1]\n",
            " [3.  1.1 0.1]\n",
            " [4.  1.2 0.2]\n",
            " [4.4 1.5 0.4]\n",
            " [3.9 1.3 0.4]\n",
            " [3.5 1.4 0.3]\n",
            " [3.8 1.7 0.3]\n",
            " [3.8 1.5 0.3]\n",
            " [3.4 1.7 0.2]\n",
            " [3.7 1.5 0.4]\n",
            " [3.6 1.  0.2]\n",
            " [3.3 1.7 0.5]\n",
            " [3.4 1.9 0.2]\n",
            " [3.  1.6 0.2]\n",
            " [3.4 1.6 0.4]\n",
            " [3.5 1.5 0.2]\n",
            " [3.4 1.4 0.2]\n",
            " [3.2 1.6 0.2]\n",
            " [3.1 1.6 0.2]\n",
            " [3.4 1.5 0.4]\n",
            " [4.1 1.5 0.1]\n",
            " [4.2 1.4 0.2]\n",
            " [3.1 1.5 0.2]\n",
            " [3.2 1.2 0.2]\n",
            " [3.5 1.3 0.2]\n",
            " [3.6 1.4 0.1]\n",
            " [3.  1.3 0.2]\n",
            " [3.4 1.5 0.2]\n",
            " [3.5 1.3 0.3]\n",
            " [2.3 1.3 0.3]\n",
            " [3.2 1.3 0.2]\n",
            " [3.5 1.6 0.6]\n",
            " [3.8 1.9 0.4]\n",
            " [3.  1.4 0.3]\n",
            " [3.8 1.6 0.2]\n",
            " [3.2 1.4 0.2]\n",
            " [3.7 1.5 0.2]\n",
            " [3.3 1.4 0.2]\n",
            " [3.2 4.7 1.4]\n",
            " [3.2 4.5 1.5]\n",
            " [3.1 4.9 1.5]\n",
            " [2.3 4.  1.3]\n",
            " [2.8 4.6 1.5]\n",
            " [2.8 4.5 1.3]\n",
            " [3.3 4.7 1.6]\n",
            " [2.4 3.3 1. ]\n",
            " [2.9 4.6 1.3]\n",
            " [2.7 3.9 1.4]\n",
            " [2.  3.5 1. ]\n",
            " [3.  4.2 1.5]\n",
            " [2.2 4.  1. ]\n",
            " [2.9 4.7 1.4]\n",
            " [2.9 3.6 1.3]\n",
            " [3.1 4.4 1.4]\n",
            " [3.  4.5 1.5]\n",
            " [2.7 4.1 1. ]\n",
            " [2.2 4.5 1.5]\n",
            " [2.5 3.9 1.1]\n",
            " [3.2 4.8 1.8]\n",
            " [2.8 4.  1.3]\n",
            " [2.5 4.9 1.5]\n",
            " [2.8 4.7 1.2]\n",
            " [2.9 4.3 1.3]\n",
            " [3.  4.4 1.4]\n",
            " [2.8 4.8 1.4]\n",
            " [3.  5.  1.7]\n",
            " [2.9 4.5 1.5]\n",
            " [2.6 3.5 1. ]\n",
            " [2.4 3.8 1.1]\n",
            " [2.4 3.7 1. ]\n",
            " [2.7 3.9 1.2]\n",
            " [2.7 5.1 1.6]\n",
            " [3.  4.5 1.5]\n",
            " [3.4 4.5 1.6]\n",
            " [3.1 4.7 1.5]\n",
            " [2.3 4.4 1.3]\n",
            " [3.  4.1 1.3]\n",
            " [2.5 4.  1.3]\n",
            " [2.6 4.4 1.2]\n",
            " [3.  4.6 1.4]\n",
            " [2.6 4.  1.2]\n",
            " [2.3 3.3 1. ]\n",
            " [2.7 4.2 1.3]\n",
            " [3.  4.2 1.2]\n",
            " [2.9 4.2 1.3]\n",
            " [2.9 4.3 1.3]\n",
            " [2.5 3.  1.1]\n",
            " [2.8 4.1 1.3]\n",
            " [3.3 6.  2.5]\n",
            " [2.7 5.1 1.9]\n",
            " [3.  5.9 2.1]\n",
            " [2.9 5.6 1.8]\n",
            " [3.  5.8 2.2]\n",
            " [3.  6.6 2.1]\n",
            " [2.5 4.5 1.7]\n",
            " [2.9 6.3 1.8]\n",
            " [2.5 5.8 1.8]\n",
            " [3.6 6.1 2.5]\n",
            " [3.2 5.1 2. ]\n",
            " [2.7 5.3 1.9]\n",
            " [3.  5.5 2.1]\n",
            " [2.5 5.  2. ]\n",
            " [2.8 5.1 2.4]\n",
            " [3.2 5.3 2.3]\n",
            " [3.  5.5 1.8]\n",
            " [3.8 6.7 2.2]\n",
            " [2.6 6.9 2.3]\n",
            " [2.2 5.  1.5]\n",
            " [3.2 5.7 2.3]\n",
            " [2.8 4.9 2. ]\n",
            " [2.8 6.7 2. ]\n",
            " [2.7 4.9 1.8]\n",
            " [3.3 5.7 2.1]\n",
            " [3.2 6.  1.8]\n",
            " [2.8 4.8 1.8]\n",
            " [3.  4.9 1.8]\n",
            " [2.8 5.6 2.1]\n",
            " [3.  5.8 1.6]\n",
            " [2.8 6.1 1.9]\n",
            " [3.8 6.4 2. ]\n",
            " [2.8 5.6 2.2]\n",
            " [2.8 5.1 1.5]\n",
            " [2.6 5.6 1.4]\n",
            " [3.  6.1 2.3]\n",
            " [3.4 5.6 2.4]\n",
            " [3.1 5.5 1.8]\n",
            " [3.  4.8 1.8]\n",
            " [3.1 5.4 2.1]\n",
            " [3.1 5.6 2.4]\n",
            " [3.1 5.1 2.3]\n",
            " [2.7 5.1 1.9]\n",
            " [3.2 5.9 2.3]\n",
            " [3.3 5.7 2.5]\n",
            " [3.  5.2 2.3]\n",
            " [2.5 5.  1.9]\n",
            " [3.  5.2 2. ]\n",
            " [3.4 5.4 2.3]\n",
            " [3.  5.1 1.8]]\n"
          ]
        }
      ]
    },
    {
      "cell_type": "code",
      "source": [
        "print(Y)"
      ],
      "metadata": {
        "id": "7X5XFiVyKSEg",
        "colab": {
          "base_uri": "https://localhost:8080/"
        },
        "outputId": "44250bf0-12be-4cab-b881-1430648182bb"
      },
      "execution_count": 8,
      "outputs": [
        {
          "output_type": "stream",
          "name": "stdout",
          "text": [
            "[5.1 4.9 4.7 4.6 5.  5.4 4.6 5.  4.4 4.9 5.4 4.8 4.8 4.3 5.8 5.7 5.4 5.1\n",
            " 5.7 5.1 5.4 5.1 4.6 5.1 4.8 5.  5.  5.2 5.2 4.7 4.8 5.4 5.2 5.5 4.9 5.\n",
            " 5.5 4.9 4.4 5.1 5.  4.5 4.4 5.  5.1 4.8 5.1 4.6 5.3 5.  7.  6.4 6.9 5.5\n",
            " 6.5 5.7 6.3 4.9 6.6 5.2 5.  5.9 6.  6.1 5.6 6.7 5.6 5.8 6.2 5.6 5.9 6.1\n",
            " 6.3 6.1 6.4 6.6 6.8 6.7 6.  5.7 5.5 5.5 5.8 6.  5.4 6.  6.7 6.3 5.6 5.5\n",
            " 5.5 6.1 5.8 5.  5.6 5.7 5.7 6.2 5.1 5.7 6.3 5.8 7.1 6.3 6.5 7.6 4.9 7.3\n",
            " 6.7 7.2 6.5 6.4 6.8 5.7 5.8 6.4 6.5 7.7 7.7 6.  6.9 5.6 7.7 6.3 6.7 7.2\n",
            " 6.2 6.1 6.4 7.2 7.4 7.9 6.4 6.3 6.1 7.7 6.3 6.4 6.  6.9 6.7 6.9 5.8 6.8\n",
            " 6.7 6.7 6.3 6.5 6.2 5.9]\n"
          ]
        }
      ]
    },
    {
      "cell_type": "markdown",
      "source": [
        "# Step 3 – Model training"
      ],
      "metadata": {
        "id": "glIkuyawKjRh"
      }
    },
    {
      "cell_type": "code",
      "source": [
        "# Split the data to train and test dataset.\n",
        "from sklearn.model_selection import train_test_split\n",
        "X_train, X_test, y_train, y_test = train_test_split(X, Y, test_size=0.2)"
      ],
      "metadata": {
        "id": "02_JcOQcKnsF"
      },
      "execution_count": 9,
      "outputs": []
    },
    {
      "cell_type": "code",
      "source": [
        "# Linear Regression \n",
        "from sklearn.linear_model import LinearRegression\n",
        "regressor = LinearRegression()\n",
        "regressor.fit(X_train, y_train)"
      ],
      "metadata": {
        "colab": {
          "base_uri": "https://localhost:8080/"
        },
        "id": "b4J93TRqKyym",
        "outputId": "c8f5a460-deab-4d8e-bf8d-0353ee1bbcaf"
      },
      "execution_count": 10,
      "outputs": [
        {
          "output_type": "execute_result",
          "data": {
            "text/plain": [
              "LinearRegression()"
            ]
          },
          "metadata": {},
          "execution_count": 10
        }
      ]
    },
    {
      "cell_type": "markdown",
      "source": [
        "# Step 4 – Model Evaluation"
      ],
      "metadata": {
        "id": "I3P6iGoZLo_c"
      }
    },
    {
      "cell_type": "code",
      "source": [
        "# Predict from the test dataset\n",
        "predictions = regressor.predict(X_test)"
      ],
      "metadata": {
        "id": "K2g0tndwLoq-"
      },
      "execution_count": 11,
      "outputs": []
    },
    {
      "cell_type": "code",
      "source": [
        "# plotting evaluation results \n",
        "plt.plot(np.arange(len(X_test)),predictions)\n",
        "plt.plot(np.arange(len(X_test)),y_test)\n",
        "plt.legend(['Y Predicted','Actual Y'])\n",
        "plt.title('Target - actual values and predicted values')"
      ],
      "metadata": {
        "colab": {
          "base_uri": "https://localhost:8080/",
          "height": 299
        },
        "id": "YsPnDGuTPsNg",
        "outputId": "62c3454f-01ce-4b11-9a01-a5c58c3a80b6"
      },
      "execution_count": 12,
      "outputs": [
        {
          "output_type": "execute_result",
          "data": {
            "text/plain": [
              "Text(0.5, 1.0, 'Target - actual values and predicted values')"
            ]
          },
          "metadata": {},
          "execution_count": 12
        },
        {
          "output_type": "display_data",
          "data": {
            "text/plain": [
              "<Figure size 432x288 with 1 Axes>"
            ],
            "image/png": "[encoded data removed]"
          },
          "metadata": {
            "needs_background": "light"
          }
        }
      ]
    },
    {
      "cell_type": "code",
      "source": [
        "from prettytable import PrettyTable\n",
        "\n",
        "# Specify the Column Names while initializing the Table\n",
        "myTable = PrettyTable([\" \", \"Actual\", \"Predicted\"])\n",
        "\n",
        "# Add rows\n",
        "for i in range(15):\n",
        "  myTable.add_row([f\"Input {i+1}\", y_test[i], predictions[i]])\n",
        "\n",
        "print(myTable)"
      ],
      "metadata": {
        "colab": {
          "base_uri": "https://localhost:8080/"
        },
        "id": "27GdnUFpRCbO",
        "outputId": "c0a8a8c4-15f8-48c0-a92e-b6b10fb59035"
      },
      "execution_count": 13,
      "outputs": [
        {
          "output_type": "stream",
          "name": "stdout",
          "text": [
            "+----------+--------+--------------------+\n",
            "|          | Actual |     Predicted      |\n",
            "+----------+--------+--------------------+\n",
            "| Input 1  |  5.2   | 4.9497758736872575 |\n",
            "| Input 2  |  6.3   | 6.147672896024139  |\n",
            "| Input 3  |  5.7   | 5.362174803932399  |\n",
            "| Input 4  |  4.7   | 4.749385908523856  |\n",
            "| Input 5  |  6.3   | 6.088790824469536  |\n",
            "| Input 6  |  4.9   |  5.13854683893232  |\n",
            "| Input 7  |  5.6   | 6.170688124663981  |\n",
            "| Input 8  |  5.5   | 5.609709082359671  |\n",
            "| Input 9  |  4.9   | 4.894934832937711  |\n",
            "| Input 10 |  6.4   | 6.084021271804728  |\n",
            "| Input 11 |  5.6   |  6.00038560659079  |\n",
            "| Input 12 |  6.1   | 6.787740822074418  |\n",
            "| Input 13 |  4.4   | 4.6326316085743935 |\n",
            "| Input 14 |  5.1   | 5.350555804014061  |\n",
            "| Input 15 |  5.0   | 5.153865340086484  |\n",
            "+----------+--------+--------------------+\n"
          ]
        }
      ]
    },
    {
      "cell_type": "markdown",
      "source": [
        "# Step 5 – Testing the model"
      ],
      "metadata": {
        "id": "joL418ctMIIy"
      }
    },
    {
      "cell_type": "code",
      "source": [
        "new_input = np.array([[3.1,\t1.5,\t0.2], [3.4,\t5.4,\t2.3]])\n",
        "actual_output = np.array([4.6, 6.2])\n",
        "\n",
        "# Prediction of the sepal length from the input vector contaning parameters such as \n",
        "# Sepal width, Petal length, Petal width\n",
        "predicted_output = regressor.predict(new_input)\n",
        "\n",
        "print(\"Prediction of Sepal length using Linear Regression \\n\")\n",
        "# printing actual values along with predicted values\n",
        "\n",
        "from prettytable import PrettyTable\n",
        "\n",
        "# Specify the Column Names while initializing the Table\n",
        "myTable = PrettyTable([\" \", \"Actual\", \"Predicted\"])\n",
        "\n",
        "# Add rows\n",
        "myTable.add_row([\"Input 1\", actual_output[0], predicted_output[0]])\n",
        "myTable.add_row([\"Input 2\", actual_output[1], predicted_output[1]])\n",
        "\n",
        "\n",
        "print(myTable)"
      ],
      "metadata": {
        "colab": {
          "base_uri": "https://localhost:8080/"
        },
        "id": "STDu6ti0MJGk",
        "outputId": "b5502b1d-8145-4e8e-da3d-09aae5ee8e81"
      },
      "execution_count": 14,
      "outputs": [
        {
          "output_type": "stream",
          "name": "stdout",
          "text": [
            "Prediction of Sepal length using Linear Regression \n",
            "\n",
            "+---------+--------+--------------------+\n",
            "|         | Actual |     Predicted      |\n",
            "+---------+--------+--------------------+\n",
            "| Input 1 |  4.6   | 4.8330215737377955 |\n",
            "| Input 2 |  6.2   | 6.590887795219242  |\n",
            "+---------+--------+--------------------+\n"
          ]
        }
      ]
    },
    {
      "cell_type": "markdown",
      "source": [
        "**Submitted By**\n",
        "\n",
        "---\n",
        "Aneetta Sara Shany - *MTech CSE Software Engineering*\n",
        "\n",
        "**Guide**\n",
        "\n",
        "---\n",
        "Dr. Shailesh Sivan"
      ],
      "metadata": {
        "id": "26nQ7x7LGtob"
      }
    }
  ]
}