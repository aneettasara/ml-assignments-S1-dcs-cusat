{
  "nbformat": 4,
  "nbformat_minor": 0,
  "metadata": {
    "colab": {
      "provenance": []
    },
    "kernelspec": {
      "name": "python3",
      "display_name": "Python 3"
    },
    "language_info": {
      "name": "python"
    }
  },
  "cells": [
    {
      "cell_type": "markdown",
      "source": [
        "*   **scikit-learn**\n",
        "*   **Loading datasets - iris and boston**\n",
        "*   **Standardization, Normalization, Scaling - Standard scaler and Minmax scaler**\n",
        "*   **Label encoder, Label binarizer, One hot encoder**\n",
        "*   **Discretization**\n",
        "*   **Feature Selection**\n",
        "*   **Feature Extraction using PCA, LDA**\n",
        "*   **Matplotlib - Line Plot, Scatter Plot, Barchart, Histogram, Box Plot**\n",
        "\n"
      ],
      "metadata": {
        "id": "JE4Hku45Y_U-"
      }
    },
    {
      "cell_type": "markdown",
      "source": [
        "#Import statements"
      ],
      "metadata": {
        "id": "5ZV5icSun4fP"
      }
    },
    {
      "cell_type": "code",
      "execution_count": 219,
      "metadata": {
        "id": "l0jPLoN9S-6l"
      },
      "outputs": [],
      "source": [
        "# Import Packages\n",
        "import numpy as np\n",
        "import matplotlib.pyplot as plt\n",
        "import seaborn as sns\n",
        "import pandas as pd\n",
        "%matplotlib inline"
      ]
    },
    {
      "cell_type": "code",
      "source": [
        "# sklearn packages\n",
        "\n",
        "from sklearn.model_selection import train_test_split\n",
        "from sklearn.preprocessing import StandardScaler\n",
        "from sklearn.decomposition import PCA\n",
        "from sklearn.discriminant_analysis import LinearDiscriminantAnalysis as LDA\n",
        "\n",
        "from sklearn.metrics import accuracy_score\n",
        "from sklearn.metrics import classification_report\n",
        "from sklearn.preprocessing import LabelEncoder\n",
        "from sklearn.preprocessing import LabelBinarizer\n",
        "from sklearn.preprocessing import OneHotEncoder\n",
        "\n",
        "from sklearn.linear_model import LogisticRegression\n",
        "from sklearn.neighbors import KNeighborsClassifier\n",
        "from sklearn.ensemble import RandomForestClassifier\n",
        "\n",
        "# Loading datasets from sklearn\n",
        "\n",
        "from sklearn.datasets import load_wine\n",
        "from sklearn.datasets import load_iris\n",
        "from sklearn.datasets import load_boston"
      ],
      "metadata": {
        "id": "wUk8OFXwoFFE"
      },
      "execution_count": 220,
      "outputs": []
    },
    {
      "cell_type": "markdown",
      "source": [
        "#Wine dataset"
      ],
      "metadata": {
        "id": "2wvfJ7GLntvO"
      }
    },
    {
      "cell_type": "code",
      "source": [
        "dataset1 = load_wine()\n",
        "print(\"Feature list of Wine dataset: \", list(dataset1.feature_names))\n",
        "print(\"Target list of Wine dataset: \", list(dataset1.target_names))\n",
        "\n",
        "df = pd.DataFrame(data= np.c_[dataset1['data'], dataset1['target']],\n",
        "                     columns= dataset1['feature_names'] + ['target_names'])\n",
        "print(\"\\nDataset\")\n",
        "print(df)\n",
        "\n",
        "# features and target\n",
        "X = df.iloc[:, 0:13].values\n",
        "y = df.iloc[:, 13].values\n",
        "\n",
        "# Splitting the dataset into the Training set and Test set\n",
        "X_train, X_test, y_train, y_test = train_test_split(X, y, test_size = 0.2, random_state = 0)\n",
        "\n",
        "# Feature Scaling using StandardScaler\n",
        "sc = StandardScaler()\n",
        "X_train = sc.fit_transform(X_train)\n",
        "X_test = sc.transform(X_test)\n",
        "\n",
        "# Applying PCA\n",
        "pca = PCA(n_components = 2)\n",
        "X_train = pca.fit_transform(X_train)\n",
        "X_test = pca.transform(X_test)\n",
        "explained_variance = pca.explained_variance_ratio_\n",
        "\n",
        "# Fitting Logistic Regression to the Training set\n",
        "classifier = LogisticRegression(random_state = 0)\n",
        "classifier.fit(X_train, y_train)\n",
        "\n",
        "# Predicting the Test set results\n",
        "y_pred = classifier.predict(X_test)\n",
        "\n",
        "# Accuracy score\n",
        "score = accuracy_score(y_test, y_pred)\n",
        "print(f\"\\n\\nTest Accuracy Score of Logistic Regression on Wine dataset: {score*100}%\")"
      ],
      "metadata": {
        "colab": {
          "base_uri": "https://localhost:8080/"
        },
        "id": "oUvUxcNTd_43",
        "outputId": "3fe9c986-f9cc-4f9d-a12f-8cd23fe8a040"
      },
      "execution_count": 221,
      "outputs": [
        {
          "output_type": "stream",
          "name": "stdout",
          "text": [
            "Feature list of Wine dataset:  ['alcohol', 'malic_acid', 'ash', 'alcalinity_of_ash', 'magnesium', 'total_phenols', 'flavanoids', 'nonflavanoid_phenols', 'proanthocyanins', 'color_intensity', 'hue', 'od280/od315_of_diluted_wines', 'proline']\n",
            "Target list of Wine dataset:  ['class_0', 'class_1', 'class_2']\n",
            "\n",
            "Dataset\n",
            "     alcohol  malic_acid   ash  alcalinity_of_ash  magnesium  total_phenols  \\\n",
            "0      14.23        1.71  2.43               15.6      127.0           2.80   \n",
            "1      13.20        1.78  2.14               11.2      100.0           2.65   \n",
            "2      13.16        2.36  2.67               18.6      101.0           2.80   \n",
            "3      14.37        1.95  2.50               16.8      113.0           3.85   \n",
            "4      13.24        2.59  2.87               21.0      118.0           2.80   \n",
            "..       ...         ...   ...                ...        ...            ...   \n",
            "173    13.71        5.65  2.45               20.5       95.0           1.68   \n",
            "174    13.40        3.91  2.48               23.0      102.0           1.80   \n",
            "175    13.27        4.28  2.26               20.0      120.0           1.59   \n",
            "176    13.17        2.59  2.37               20.0      120.0           1.65   \n",
            "177    14.13        4.10  2.74               24.5       96.0           2.05   \n",
            "\n",
            "     flavanoids  nonflavanoid_phenols  proanthocyanins  color_intensity   hue  \\\n",
            "0          3.06                  0.28             2.29             5.64  1.04   \n",
            "1          2.76                  0.26             1.28             4.38  1.05   \n",
            "2          3.24                  0.30             2.81             5.68  1.03   \n",
            "3          3.49                  0.24             2.18             7.80  0.86   \n",
            "4          2.69                  0.39             1.82             4.32  1.04   \n",
            "..          ...                   ...              ...              ...   ...   \n",
            "173        0.61                  0.52             1.06             7.70  0.64   \n",
            "174        0.75                  0.43             1.41             7.30  0.70   \n",
            "175        0.69                  0.43             1.35            10.20  0.59   \n",
            "176        0.68                  0.53             1.46             9.30  0.60   \n",
            "177        0.76                  0.56             1.35             9.20  0.61   \n",
            "\n",
            "     od280/od315_of_diluted_wines  proline  target_names  \n",
            "0                            3.92   1065.0           0.0  \n",
            "1                            3.40   1050.0           0.0  \n",
            "2                            3.17   1185.0           0.0  \n",
            "3                            3.45   1480.0           0.0  \n",
            "4                            2.93    735.0           0.0  \n",
            "..                            ...      ...           ...  \n",
            "173                          1.74    740.0           2.0  \n",
            "174                          1.56    750.0           2.0  \n",
            "175                          1.56    835.0           2.0  \n",
            "176                          1.62    840.0           2.0  \n",
            "177                          1.60    560.0           2.0  \n",
            "\n",
            "[178 rows x 14 columns]\n",
            "\n",
            "\n",
            "Test Accuracy Score of Logistic Regression on Wine dataset: 97.22222222222221%\n"
          ]
        }
      ]
    },
    {
      "cell_type": "markdown",
      "source": [
        "#Iris dataset"
      ],
      "metadata": {
        "id": "pui496WNnzHu"
      }
    },
    {
      "cell_type": "code",
      "source": [
        "iris = load_iris()\n",
        "X = iris.data\n",
        "y = iris.target\n",
        "print(\"\\n10 rows of features:\\n\", X[30:40])\n",
        "print()\n",
        "print(\"\\n10 rows of target:\\n\", y[30:40])\n",
        "print()\n",
        "\n",
        "X_train, X_test, y_train, y_test = train_test_split(X, y, test_size = 0.3, random_state = 1)\n",
        "print(X_train.shape)\n",
        "print(X_test.shape)\n",
        "print(y_train.shape)\n",
        "print(y_test.shape)\n",
        "print()\n",
        "\n",
        "classifier_knn = KNeighborsClassifier(n_neighbors = 3)\n",
        "classifier_knn.fit(X_train, y_train)\n",
        "y_pred = classifier_knn.predict(X_test)\n",
        "score = accuracy_score(y_test, y_pred)\n",
        "print(f\"\\n\\nTest Accuracy Score of Logistic Regression on Wine dataset: {score*100}%\")\n",
        "print()\n",
        "\n",
        "sample_input = [[5.1, 3.3, 1.7, 0.5], [4.7, 3.2, 1.6, 0.2], [6.7, 3. , 5. , 1.7], [6.1, 2.8, 4.7, 1.2]]\n",
        "sample_output = np.array([0, 0, 1, 1])\n",
        "predicted_output = classifier_knn.predict(sample_input)\n",
        "\n",
        "pred_species = [iris.target_names[p] for p in predicted_output]\n",
        "print(\"Predictions of flower specis on given data:\", pred_species)\n",
        "if np.array_equal(predicted_output, sample_output):\n",
        "  print(\"\\nAccurate\")\n",
        "else:\n",
        "  print(\"\\nNot so Accurate\")"
      ],
      "metadata": {
        "colab": {
          "base_uri": "https://localhost:8080/"
        },
        "id": "Nr7faVxIi5u0",
        "outputId": "9432c850-40df-4caa-cf09-589382c19a7c"
      },
      "execution_count": 222,
      "outputs": [
        {
          "output_type": "stream",
          "name": "stdout",
          "text": [
            "\n",
            "10 rows of features:\n",
            " [[4.8 3.1 1.6 0.2]\n",
            " [5.4 3.4 1.5 0.4]\n",
            " [5.2 4.1 1.5 0.1]\n",
            " [5.5 4.2 1.4 0.2]\n",
            " [4.9 3.1 1.5 0.2]\n",
            " [5.  3.2 1.2 0.2]\n",
            " [5.5 3.5 1.3 0.2]\n",
            " [4.9 3.6 1.4 0.1]\n",
            " [4.4 3.  1.3 0.2]\n",
            " [5.1 3.4 1.5 0.2]]\n",
            "\n",
            "\n",
            "10 rows of target:\n",
            " [0 0 0 0 0 0 0 0 0 0]\n",
            "\n",
            "(105, 4)\n",
            "(45, 4)\n",
            "(105,)\n",
            "(45,)\n",
            "\n",
            "\n",
            "\n",
            "Test Accuracy Score of Logistic Regression on Wine dataset: 97.77777777777777%\n",
            "\n",
            "Predictions of flower specis on given data: ['setosa', 'setosa', 'versicolor', 'versicolor']\n",
            "\n",
            "Accurate\n"
          ]
        }
      ]
    },
    {
      "cell_type": "markdown",
      "source": [
        "#Boston dataset"
      ],
      "metadata": {
        "id": "13FzPMyK5O-P"
      }
    },
    {
      "cell_type": "code",
      "source": [
        "boston = load_boston()\n",
        "\n",
        "print(boston.keys())\n",
        "\n",
        "df1 = pd.DataFrame(data=boston['data'], columns=boston['feature_names'])\n",
        "df1"
      ],
      "metadata": {
        "colab": {
          "base_uri": "https://localhost:8080/",
          "height": 1000
        },
        "id": "ZTjpuxyO5Xsv",
        "outputId": "efbfeb7d-0f3f-43c2-98a2-c7ed9bbb2a9d"
      },
      "execution_count": 223,
      "outputs": [
        {
          "output_type": "stream",
          "name": "stdout",
          "text": [
            "dict_keys(['data', 'target', 'feature_names', 'DESCR', 'filename', 'data_module'])\n"
          ]
        },
        {
          "output_type": "stream",
          "name": "stderr",
          "text": [
            "/usr/local/lib/python3.8/dist-packages/sklearn/utils/deprecation.py:87: FutureWarning: Function load_boston is deprecated; `load_boston` is deprecated in 1.0 and will be removed in 1.2.\n",
            "\n",
            "    The Boston housing prices dataset has an ethical problem. You can refer to\n",
            "    the documentation of this function for further details.\n",
            "\n",
            "    The scikit-learn maintainers therefore strongly discourage the use of this\n",
            "    dataset unless the purpose of the code is to study and educate about\n",
            "    ethical issues in data science and machine learning.\n",
            "\n",
            "    In this special case, you can fetch the dataset from the original\n",
            "    source::\n",
            "\n",
            "        import pandas as pd\n",
            "        import numpy as np\n",
            "\n",
            "\n",
            "        data_url = \"http://lib.stat.cmu.edu/datasets/boston\"\n",
            "        raw_df = pd.read_csv(data_url, sep=\"\\s+\", skiprows=22, header=None)\n",
            "        data = np.hstack([raw_df.values[::2, :], raw_df.values[1::2, :2]])\n",
            "        target = raw_df.values[1::2, 2]\n",
            "\n",
            "    Alternative datasets include the California housing dataset (i.e.\n",
            "    :func:`~sklearn.datasets.fetch_california_housing`) and the Ames housing\n",
            "    dataset. You can load the datasets as follows::\n",
            "\n",
            "        from sklearn.datasets import fetch_california_housing\n",
            "        housing = fetch_california_housing()\n",
            "\n",
            "    for the California housing dataset and::\n",
            "\n",
            "        from sklearn.datasets import fetch_openml\n",
            "        housing = fetch_openml(name=\"house_prices\", as_frame=True)\n",
            "\n",
            "    for the Ames housing dataset.\n",
            "    \n",
            "  warnings.warn(msg, category=FutureWarning)\n"
          ]
        },
        {
          "output_type": "execute_result",
          "data": {
            "text/plain": [
              "        CRIM    ZN  INDUS  CHAS    NOX     RM   AGE     DIS  RAD    TAX  \\\n",
              "0    0.00632  18.0   2.31   0.0  0.538  6.575  65.2  4.0900  1.0  296.0   \n",
              "1    0.02731   0.0   7.07   0.0  0.469  6.421  78.9  4.9671  2.0  242.0   \n",
              "2    0.02729   0.0   7.07   0.0  0.469  7.185  61.1  4.9671  2.0  242.0   \n",
              "3    0.03237   0.0   2.18   0.0  0.458  6.998  45.8  6.0622  3.0  222.0   \n",
              "4    0.06905   0.0   2.18   0.0  0.458  7.147  54.2  6.0622  3.0  222.0   \n",
              "..       ...   ...    ...   ...    ...    ...   ...     ...  ...    ...   \n",
              "501  0.06263   0.0  11.93   0.0  0.573  6.593  69.1  2.4786  1.0  273.0   \n",
              "502  0.04527   0.0  11.93   0.0  0.573  6.120  76.7  2.2875  1.0  273.0   \n",
              "503  0.06076   0.0  11.93   0.0  0.573  6.976  91.0  2.1675  1.0  273.0   \n",
              "504  0.10959   0.0  11.93   0.0  0.573  6.794  89.3  2.3889  1.0  273.0   \n",
              "505  0.04741   0.0  11.93   0.0  0.573  6.030  80.8  2.5050  1.0  273.0   \n",
              "\n",
              "     PTRATIO       B  LSTAT  \n",
              "0       15.3  396.90   4.98  \n",
              "1       17.8  396.90   9.14  \n",
              "2       17.8  392.83   4.03  \n",
              "3       18.7  394.63   2.94  \n",
              "4       18.7  396.90   5.33  \n",
              "..       ...     ...    ...  \n",
              "501     21.0  391.99   9.67  \n",
              "502     21.0  396.90   9.08  \n",
              "503     21.0  396.90   5.64  \n",
              "504     21.0  393.45   6.48  \n",
              "505     21.0  396.90   7.88  \n",
              "\n",
              "[506 rows x 13 columns]"
            ],
            "text/html": [
              "\n",
              "  <div id=\"df-7035779d-3a3e-4e86-8bcb-61a6861964a0\">\n",
              "    <div class=\"colab-df-container\">\n",
              "      <div>\n",
              "<style scoped>\n",
              "    .dataframe tbody tr th:only-of-type {\n",
              "        vertical-align: middle;\n",
              "    }\n",
              "\n",
              "    .dataframe tbody tr th {\n",
              "        vertical-align: top;\n",
              "    }\n",
              "\n",
              "    .dataframe thead th {\n",
              "        text-align: right;\n",
              "    }\n",
              "</style>\n",
              "<table border=\"1\" class=\"dataframe\">\n",
              "  <thead>\n",
              "    <tr style=\"text-align: right;\">\n",
              "      <th></th>\n",
              "      <th>CRIM</th>\n",
              "      <th>ZN</th>\n",
              "      <th>INDUS</th>\n",
              "      <th>CHAS</th>\n",
              "      <th>NOX</th>\n",
              "      <th>RM</th>\n",
              "      <th>AGE</th>\n",
              "      <th>DIS</th>\n",
              "      <th>RAD</th>\n",
              "      <th>TAX</th>\n",
              "      <th>PTRATIO</th>\n",
              "      <th>B</th>\n",
              "      <th>LSTAT</th>\n",
              "    </tr>\n",
              "  </thead>\n",
              "  <tbody>\n",
              "    <tr>\n",
              "      <th>0</th>\n",
              "      <td>0.00632</td>\n",
              "      <td>18.0</td>\n",
              "      <td>2.31</td>\n",
              "      <td>0.0</td>\n",
              "      <td>0.538</td>\n",
              "      <td>6.575</td>\n",
              "      <td>65.2</td>\n",
              "      <td>4.0900</td>\n",
              "      <td>1.0</td>\n",
              "      <td>296.0</td>\n",
              "      <td>15.3</td>\n",
              "      <td>396.90</td>\n",
              "      <td>4.98</td>\n",
              "    </tr>\n",
              "    <tr>\n",
              "      <th>1</th>\n",
              "      <td>0.02731</td>\n",
              "      <td>0.0</td>\n",
              "      <td>7.07</td>\n",
              "      <td>0.0</td>\n",
              "      <td>0.469</td>\n",
              "      <td>6.421</td>\n",
              "      <td>78.9</td>\n",
              "      <td>4.9671</td>\n",
              "      <td>2.0</td>\n",
              "      <td>242.0</td>\n",
              "      <td>17.8</td>\n",
              "      <td>396.90</td>\n",
              "      <td>9.14</td>\n",
              "    </tr>\n",
              "    <tr>\n",
              "      <th>2</th>\n",
              "      <td>0.02729</td>\n",
              "      <td>0.0</td>\n",
              "      <td>7.07</td>\n",
              "      <td>0.0</td>\n",
              "      <td>0.469</td>\n",
              "      <td>7.185</td>\n",
              "      <td>61.1</td>\n",
              "      <td>4.9671</td>\n",
              "      <td>2.0</td>\n",
              "      <td>242.0</td>\n",
              "      <td>17.8</td>\n",
              "      <td>392.83</td>\n",
              "      <td>4.03</td>\n",
              "    </tr>\n",
              "    <tr>\n",
              "      <th>3</th>\n",
              "      <td>0.03237</td>\n",
              "      <td>0.0</td>\n",
              "      <td>2.18</td>\n",
              "      <td>0.0</td>\n",
              "      <td>0.458</td>\n",
              "      <td>6.998</td>\n",
              "      <td>45.8</td>\n",
              "      <td>6.0622</td>\n",
              "      <td>3.0</td>\n",
              "      <td>222.0</td>\n",
              "      <td>18.7</td>\n",
              "      <td>394.63</td>\n",
              "      <td>2.94</td>\n",
              "    </tr>\n",
              "    <tr>\n",
              "      <th>4</th>\n",
              "      <td>0.06905</td>\n",
              "      <td>0.0</td>\n",
              "      <td>2.18</td>\n",
              "      <td>0.0</td>\n",
              "      <td>0.458</td>\n",
              "      <td>7.147</td>\n",
              "      <td>54.2</td>\n",
              "      <td>6.0622</td>\n",
              "      <td>3.0</td>\n",
              "      <td>222.0</td>\n",
              "      <td>18.7</td>\n",
              "      <td>396.90</td>\n",
              "      <td>5.33</td>\n",
              "    </tr>\n",
              "    <tr>\n",
              "      <th>...</th>\n",
              "      <td>...</td>\n",
              "      <td>...</td>\n",
              "      <td>...</td>\n",
              "      <td>...</td>\n",
              "      <td>...</td>\n",
              "      <td>...</td>\n",
              "      <td>...</td>\n",
              "      <td>...</td>\n",
              "      <td>...</td>\n",
              "      <td>...</td>\n",
              "      <td>...</td>\n",
              "      <td>...</td>\n",
              "      <td>...</td>\n",
              "    </tr>\n",
              "    <tr>\n",
              "      <th>501</th>\n",
              "      <td>0.06263</td>\n",
              "      <td>0.0</td>\n",
              "      <td>11.93</td>\n",
              "      <td>0.0</td>\n",
              "      <td>0.573</td>\n",
              "      <td>6.593</td>\n",
              "      <td>69.1</td>\n",
              "      <td>2.4786</td>\n",
              "      <td>1.0</td>\n",
              "      <td>273.0</td>\n",
              "      <td>21.0</td>\n",
              "      <td>391.99</td>\n",
              "      <td>9.67</td>\n",
              "    </tr>\n",
              "    <tr>\n",
              "      <th>502</th>\n",
              "      <td>0.04527</td>\n",
              "      <td>0.0</td>\n",
              "      <td>11.93</td>\n",
              "      <td>0.0</td>\n",
              "      <td>0.573</td>\n",
              "      <td>6.120</td>\n",
              "      <td>76.7</td>\n",
              "      <td>2.2875</td>\n",
              "      <td>1.0</td>\n",
              "      <td>273.0</td>\n",
              "      <td>21.0</td>\n",
              "      <td>396.90</td>\n",
              "      <td>9.08</td>\n",
              "    </tr>\n",
              "    <tr>\n",
              "      <th>503</th>\n",
              "      <td>0.06076</td>\n",
              "      <td>0.0</td>\n",
              "      <td>11.93</td>\n",
              "      <td>0.0</td>\n",
              "      <td>0.573</td>\n",
              "      <td>6.976</td>\n",
              "      <td>91.0</td>\n",
              "      <td>2.1675</td>\n",
              "      <td>1.0</td>\n",
              "      <td>273.0</td>\n",
              "      <td>21.0</td>\n",
              "      <td>396.90</td>\n",
              "      <td>5.64</td>\n",
              "    </tr>\n",
              "    <tr>\n",
              "      <th>504</th>\n",
              "      <td>0.10959</td>\n",
              "      <td>0.0</td>\n",
              "      <td>11.93</td>\n",
              "      <td>0.0</td>\n",
              "      <td>0.573</td>\n",
              "      <td>6.794</td>\n",
              "      <td>89.3</td>\n",
              "      <td>2.3889</td>\n",
              "      <td>1.0</td>\n",
              "      <td>273.0</td>\n",
              "      <td>21.0</td>\n",
              "      <td>393.45</td>\n",
              "      <td>6.48</td>\n",
              "    </tr>\n",
              "    <tr>\n",
              "      <th>505</th>\n",
              "      <td>0.04741</td>\n",
              "      <td>0.0</td>\n",
              "      <td>11.93</td>\n",
              "      <td>0.0</td>\n",
              "      <td>0.573</td>\n",
              "      <td>6.030</td>\n",
              "      <td>80.8</td>\n",
              "      <td>2.5050</td>\n",
              "      <td>1.0</td>\n",
              "      <td>273.0</td>\n",
              "      <td>21.0</td>\n",
              "      <td>396.90</td>\n",
              "      <td>7.88</td>\n",
              "    </tr>\n",
              "  </tbody>\n",
              "</table>\n",
              "<p>506 rows × 13 columns</p>\n",
              "</div>\n",
              "      <button class=\"colab-df-convert\" onclick=\"convertToInteractive('df-7035779d-3a3e-4e86-8bcb-61a6861964a0')\"\n",
              "              title=\"Convert this dataframe to an interactive table.\"\n",
              "              style=\"display:none;\">\n",
              "        \n",
              "  <svg xmlns=\"http://www.w3.org/2000/svg\" height=\"24px\"viewBox=\"0 0 24 24\"\n",
              "       width=\"24px\">\n",
              "    <path d=\"M0 0h24v24H0V0z\" fill=\"none\"/>\n",
              "    <path d=\"M18.56 5.44l.94 2.06.94-2.06 2.06-.94-2.06-.94-.94-2.06-.94 2.06-2.06.94zm-11 1L8.5 8.5l.94-2.06 2.06-.94-2.06-.94L8.5 2.5l-.94 2.06-2.06.94zm10 10l.94 2.06.94-2.06 2.06-.94-2.06-.94-.94-2.06-.94 2.06-2.06.94z\"/><path d=\"M17.41 7.96l-1.37-1.37c-.4-.4-.92-.59-1.43-.59-.52 0-1.04.2-1.43.59L10.3 9.45l-7.72 7.72c-.78.78-.78 2.05 0 2.83L4 21.41c.39.39.9.59 1.41.59.51 0 1.02-.2 1.41-.59l7.78-7.78 2.81-2.81c.8-.78.8-2.07 0-2.86zM5.41 20L4 18.59l7.72-7.72 1.47 1.35L5.41 20z\"/>\n",
              "  </svg>\n",
              "      </button>\n",
              "      \n",
              "  <style>\n",
              "    .colab-df-container {\n",
              "      display:flex;\n",
              "      flex-wrap:wrap;\n",
              "      gap: 12px;\n",
              "    }\n",
              "\n",
              "    .colab-df-convert {\n",
              "      background-color: #E8F0FE;\n",
              "      border: none;\n",
              "      border-radius: 50%;\n",
              "      cursor: pointer;\n",
              "      display: none;\n",
              "      fill: #1967D2;\n",
              "      height: 32px;\n",
              "      padding: 0 0 0 0;\n",
              "      width: 32px;\n",
              "    }\n",
              "\n",
              "    .colab-df-convert:hover {\n",
              "      background-color: #E2EBFA;\n",
              "      box-shadow: 0px 1px 2px rgba(60, 64, 67, 0.3), 0px 1px 3px 1px rgba(60, 64, 67, 0.15);\n",
              "      fill: #174EA6;\n",
              "    }\n",
              "\n",
              "    [theme=dark] .colab-df-convert {\n",
              "      background-color: #3B4455;\n",
              "      fill: #D2E3FC;\n",
              "    }\n",
              "\n",
              "    [theme=dark] .colab-df-convert:hover {\n",
              "      background-color: #434B5C;\n",
              "      box-shadow: 0px 1px 3px 1px rgba(0, 0, 0, 0.15);\n",
              "      filter: drop-shadow(0px 1px 2px rgba(0, 0, 0, 0.3));\n",
              "      fill: #FFFFFF;\n",
              "    }\n",
              "  </style>\n",
              "\n",
              "      <script>\n",
              "        const buttonEl =\n",
              "          document.querySelector('#df-7035779d-3a3e-4e86-8bcb-61a6861964a0 button.colab-df-convert');\n",
              "        buttonEl.style.display =\n",
              "          google.colab.kernel.accessAllowed ? 'block' : 'none';\n",
              "\n",
              "        async function convertToInteractive(key) {\n",
              "          const element = document.querySelector('#df-7035779d-3a3e-4e86-8bcb-61a6861964a0');\n",
              "          const dataTable =\n",
              "            await google.colab.kernel.invokeFunction('convertToInteractive',\n",
              "                                                     [key], {});\n",
              "          if (!dataTable) return;\n",
              "\n",
              "          const docLinkHtml = 'Like what you see? Visit the ' +\n",
              "            '<a target=\"_blank\" href=https://colab.research.google.com/notebooks/data_table.ipynb>data table notebook</a>'\n",
              "            + ' to learn more about interactive tables.';\n",
              "          element.innerHTML = '';\n",
              "          dataTable['output_type'] = 'display_data';\n",
              "          await google.colab.output.renderOutput(dataTable, element);\n",
              "          const docLink = document.createElement('div');\n",
              "          docLink.innerHTML = docLinkHtml;\n",
              "          element.appendChild(docLink);\n",
              "        }\n",
              "      </script>\n",
              "    </div>\n",
              "  </div>\n",
              "  "
            ]
          },
          "metadata": {},
          "execution_count": 223
        }
      ]
    },
    {
      "cell_type": "markdown",
      "source": [
        "#Standardization, Normalization, Scaling - Standard scaler and Minmax scaler"
      ],
      "metadata": {
        "id": "Zdkhqais8nBr"
      }
    },
    {
      "cell_type": "code",
      "source": [
        "import numpy as np\n",
        "from sklearn import preprocessing\n",
        "input_data = np.array(\n",
        "   [\n",
        "      [2.1, -1.9, 5.5],\n",
        "      [-1.5, 2.4, 3.5],\n",
        "      [0.5, -7.9, 5.6],\n",
        "      [5.9, 2.3, -5.8]\n",
        "   ]\n",
        ")\n",
        "\n",
        "data_binarized = preprocessing.Binarizer(threshold=0.5).transform(input_data)\n",
        "print(\"\\nBinarized data:\\n\", data_binarized)\n",
        "\n",
        "print(\"\\nMean =\", input_data.mean(axis=0))\n",
        "print(\"Standard deviation = \", input_data.std(axis=0))\n",
        "\n",
        "data_scaled = preprocessing.scale(input_data)\n",
        "print(\"\\nMean removed =\", data_scaled.mean(axis=0))\n",
        "print(\"Standard deviation removed =\", data_scaled.std(axis=0))\n",
        "\n",
        "\n",
        "data_scaler_minmax = preprocessing.MinMaxScaler(feature_range=(0,1))\n",
        "data_scaled_minmax = data_scaler_minmax.fit_transform(input_data)\n",
        "print (\"\\nMin max scaled data:\\n\", data_scaled_minmax)\n",
        "\n",
        "data_normalized_l1 = preprocessing.normalize(input_data, norm='l1')\n",
        "print(\"\\nL1 normalized data:\\n\", data_normalized_l1)\n",
        "\n",
        "data_normalized_l2 = preprocessing.normalize(input_data, norm='l2')\n",
        "print(\"\\nL1 normalized data:\\n\", data_normalized_l2)"
      ],
      "metadata": {
        "colab": {
          "base_uri": "https://localhost:8080/"
        },
        "id": "y-4_QyNN8mu3",
        "outputId": "18aa1e47-ab34-4aa6-85bf-588360629193"
      },
      "execution_count": 224,
      "outputs": [
        {
          "output_type": "stream",
          "name": "stdout",
          "text": [
            "\n",
            "Binarized data:\n",
            " [[1. 0. 1.]\n",
            " [0. 1. 1.]\n",
            " [0. 0. 1.]\n",
            " [1. 1. 0.]]\n",
            "\n",
            "Mean = [ 1.75  -1.275  2.2  ]\n",
            "Standard deviation =  [2.71431391 4.20022321 4.69414529]\n",
            "\n",
            "Mean removed = [1.11022302e-16 0.00000000e+00 0.00000000e+00]\n",
            "Standard deviation removed = [1. 1. 1.]\n",
            "\n",
            "Min max scaled data:\n",
            " [[0.48648649 0.58252427 0.99122807]\n",
            " [0.         1.         0.81578947]\n",
            " [0.27027027 0.         1.        ]\n",
            " [1.         0.99029126 0.        ]]\n",
            "\n",
            "L1 normalized data:\n",
            " [[ 0.22105263 -0.2         0.57894737]\n",
            " [-0.2027027   0.32432432  0.47297297]\n",
            " [ 0.03571429 -0.56428571  0.4       ]\n",
            " [ 0.42142857  0.16428571 -0.41428571]]\n",
            "\n",
            "L1 normalized data:\n",
            " [[ 0.33946114 -0.30713151  0.88906489]\n",
            " [-0.33325106  0.53320169  0.7775858 ]\n",
            " [ 0.05156558 -0.81473612  0.57753446]\n",
            " [ 0.68706914  0.26784051 -0.6754239 ]]\n"
          ]
        }
      ]
    },
    {
      "cell_type": "markdown",
      "source": [
        "#Label encoder, Label binarizer, One hot encoder"
      ],
      "metadata": {
        "id": "43wkWfJ-IpeH"
      }
    },
    {
      "cell_type": "code",
      "source": [
        "# Label encoder\n",
        "\n",
        "states = ('Goa','Gujarat','Jammu and Kashmir','Karnataka','Kerala','Madhya Pradesh'\n",
        "          ,'Maharashtra','Meghalaya','Punjab','Rajasthan','Sikkim','Tamil Nadu')\n",
        "\n",
        "states_df = pd.DataFrame(states, columns=['State_name'])\n",
        "print(\"\\nBefore Encoder\\n\")\n",
        "print(states_df)\n",
        "labelencoder = LabelEncoder()\n",
        "states_df['State_number'] = labelencoder.fit_transform(states_df['State_name'])\n",
        "print(\"\\nAfter Encoder\\n\")\n",
        "print(states_df)"
      ],
      "metadata": {
        "colab": {
          "base_uri": "https://localhost:8080/"
        },
        "id": "3US94gGcIqpF",
        "outputId": "df70b6c8-01c6-46e2-e63b-5015ca19282d"
      },
      "execution_count": 225,
      "outputs": [
        {
          "output_type": "stream",
          "name": "stdout",
          "text": [
            "\n",
            "Before Encoder\n",
            "\n",
            "           State_name\n",
            "0                 Goa\n",
            "1             Gujarat\n",
            "2   Jammu and Kashmir\n",
            "3           Karnataka\n",
            "4              Kerala\n",
            "5      Madhya Pradesh\n",
            "6         Maharashtra\n",
            "7           Meghalaya\n",
            "8              Punjab\n",
            "9           Rajasthan\n",
            "10             Sikkim\n",
            "11         Tamil Nadu\n",
            "\n",
            "After Encoder\n",
            "\n",
            "           State_name  State_number\n",
            "0                 Goa             0\n",
            "1             Gujarat             1\n",
            "2   Jammu and Kashmir             2\n",
            "3           Karnataka             3\n",
            "4              Kerala             4\n",
            "5      Madhya Pradesh             5\n",
            "6         Maharashtra             6\n",
            "7           Meghalaya             7\n",
            "8              Punjab             8\n",
            "9           Rajasthan             9\n",
            "10             Sikkim            10\n",
            "11         Tamil Nadu            11\n"
          ]
        }
      ]
    },
    {
      "cell_type": "code",
      "source": [
        "# One hot encoder\n",
        "\n",
        "print(\"\\nBefore Encoder\\n\")\n",
        "print(states_df)\n",
        "enc = OneHotEncoder(handle_unknown='ignore')\n",
        "# passing bridge-types-cat column (label encoded values of bridge_types)\n",
        "enc_df = pd.DataFrame(enc.fit_transform(states_df[['State_number']]).toarray())\n",
        "# merge with main df bridge_df on key values\n",
        "states_df = states_df.join(enc_df)\n",
        "print(\"\\nAfter Encoder\\n\")\n",
        "print(states_df)"
      ],
      "metadata": {
        "colab": {
          "base_uri": "https://localhost:8080/"
        },
        "id": "ux2GGu1TNU9z",
        "outputId": "ffac39e7-780f-490c-931f-d52957c0e9f6"
      },
      "execution_count": 226,
      "outputs": [
        {
          "output_type": "stream",
          "name": "stdout",
          "text": [
            "\n",
            "Before Encoder\n",
            "\n",
            "           State_name  State_number\n",
            "0                 Goa             0\n",
            "1             Gujarat             1\n",
            "2   Jammu and Kashmir             2\n",
            "3           Karnataka             3\n",
            "4              Kerala             4\n",
            "5      Madhya Pradesh             5\n",
            "6         Maharashtra             6\n",
            "7           Meghalaya             7\n",
            "8              Punjab             8\n",
            "9           Rajasthan             9\n",
            "10             Sikkim            10\n",
            "11         Tamil Nadu            11\n",
            "\n",
            "After Encoder\n",
            "\n",
            "           State_name  State_number    0    1    2    3    4    5    6    7  \\\n",
            "0                 Goa             0  1.0  0.0  0.0  0.0  0.0  0.0  0.0  0.0   \n",
            "1             Gujarat             1  0.0  1.0  0.0  0.0  0.0  0.0  0.0  0.0   \n",
            "2   Jammu and Kashmir             2  0.0  0.0  1.0  0.0  0.0  0.0  0.0  0.0   \n",
            "3           Karnataka             3  0.0  0.0  0.0  1.0  0.0  0.0  0.0  0.0   \n",
            "4              Kerala             4  0.0  0.0  0.0  0.0  1.0  0.0  0.0  0.0   \n",
            "5      Madhya Pradesh             5  0.0  0.0  0.0  0.0  0.0  1.0  0.0  0.0   \n",
            "6         Maharashtra             6  0.0  0.0  0.0  0.0  0.0  0.0  1.0  0.0   \n",
            "7           Meghalaya             7  0.0  0.0  0.0  0.0  0.0  0.0  0.0  1.0   \n",
            "8              Punjab             8  0.0  0.0  0.0  0.0  0.0  0.0  0.0  0.0   \n",
            "9           Rajasthan             9  0.0  0.0  0.0  0.0  0.0  0.0  0.0  0.0   \n",
            "10             Sikkim            10  0.0  0.0  0.0  0.0  0.0  0.0  0.0  0.0   \n",
            "11         Tamil Nadu            11  0.0  0.0  0.0  0.0  0.0  0.0  0.0  0.0   \n",
            "\n",
            "      8    9   10   11  \n",
            "0   0.0  0.0  0.0  0.0  \n",
            "1   0.0  0.0  0.0  0.0  \n",
            "2   0.0  0.0  0.0  0.0  \n",
            "3   0.0  0.0  0.0  0.0  \n",
            "4   0.0  0.0  0.0  0.0  \n",
            "5   0.0  0.0  0.0  0.0  \n",
            "6   0.0  0.0  0.0  0.0  \n",
            "7   0.0  0.0  0.0  0.0  \n",
            "8   1.0  0.0  0.0  0.0  \n",
            "9   0.0  1.0  0.0  0.0  \n",
            "10  0.0  0.0  1.0  0.0  \n",
            "11  0.0  0.0  0.0  1.0  \n"
          ]
        }
      ]
    },
    {
      "cell_type": "code",
      "source": [
        "# Label binarizer\n",
        "\n",
        "print(\"\\nBefore Encoder\\n\")\n",
        "print(states_df[10])\n",
        "bin = LabelBinarizer()\n",
        "states_df[10] = bin.fit_transform(states_df[10])\n",
        "print(\"\\nAfter Encoder\\n\")\n",
        "print(states_df[10])"
      ],
      "metadata": {
        "colab": {
          "base_uri": "https://localhost:8080/"
        },
        "id": "U_IO7sItPaQA",
        "outputId": "cde73dd1-8ed4-489b-a2eb-2d0ac75154e4"
      },
      "execution_count": 227,
      "outputs": [
        {
          "output_type": "stream",
          "name": "stdout",
          "text": [
            "\n",
            "Before Encoder\n",
            "\n",
            "0     0.0\n",
            "1     0.0\n",
            "2     0.0\n",
            "3     0.0\n",
            "4     0.0\n",
            "5     0.0\n",
            "6     0.0\n",
            "7     0.0\n",
            "8     0.0\n",
            "9     0.0\n",
            "10    1.0\n",
            "11    0.0\n",
            "Name: 10, dtype: float64\n",
            "\n",
            "After Encoder\n",
            "\n",
            "0     0\n",
            "1     0\n",
            "2     0\n",
            "3     0\n",
            "4     0\n",
            "5     0\n",
            "6     0\n",
            "7     0\n",
            "8     0\n",
            "9     0\n",
            "10    1\n",
            "11    0\n",
            "Name: 10, dtype: int64\n"
          ]
        }
      ]
    },
    {
      "cell_type": "markdown",
      "source": [
        "#Discretization"
      ],
      "metadata": {
        "id": "1_WIaZrrIjU9"
      }
    },
    {
      "cell_type": "code",
      "source": [
        "# Wine dataset\n",
        "\n",
        "magnesium_wine = df['magnesium'].iloc[10:20]\n",
        "print(magnesium_wine.to_numpy())\n",
        "# bin/categorize/discretize the variable into multiple categories.\n",
        "print(np.digitize(magnesium_wine,bins=[100]))\n",
        "print(np.digitize(magnesium_wine,[110,100]))\n",
        "df['binned']=pd.cut(x=df['magnesium'], bins=[85,90,100,105,120])\n",
        "df['magnesium_rate']=pd.cut(x=df['magnesium'], bins=[85,90,100,105,120], \n",
        "                        labels=[\"smallest\", \" smaller\", \"small\",\"big\"])\n",
        "print(df[['magnesium','magnesium_rate','binned']].iloc[10:20])"
      ],
      "metadata": {
        "colab": {
          "base_uri": "https://localhost:8080/"
        },
        "id": "j6F6uBnuIk4V",
        "outputId": "51718da8-f183-4155-b56f-8989b1d38c8a"
      },
      "execution_count": 228,
      "outputs": [
        {
          "output_type": "stream",
          "name": "stdout",
          "text": [
            "[105.  95.  89.  91. 102. 112. 120. 115. 108. 116.]\n",
            "[1 0 0 0 1 1 1 1 1 1]\n",
            "[1 2 2 2 1 0 0 0 1 0]\n",
            "    magnesium magnesium_rate      binned\n",
            "10      105.0          small  (100, 105]\n",
            "11       95.0        smaller   (90, 100]\n",
            "12       89.0       smallest    (85, 90]\n",
            "13       91.0        smaller   (90, 100]\n",
            "14      102.0          small  (100, 105]\n",
            "15      112.0            big  (105, 120]\n",
            "16      120.0            big  (105, 120]\n",
            "17      115.0            big  (105, 120]\n",
            "18      108.0            big  (105, 120]\n",
            "19      116.0            big  (105, 120]\n"
          ]
        }
      ]
    },
    {
      "cell_type": "markdown",
      "source": [
        "#Feature Selection"
      ],
      "metadata": {
        "id": "XcDTbL8uIZ2S"
      }
    },
    {
      "cell_type": "code",
      "source": [
        "# Wine dataset\n",
        "\n",
        "df.info()\n",
        "sns.countplot(df['target_names'])"
      ],
      "metadata": {
        "colab": {
          "base_uri": "https://localhost:8080/",
          "height": 768
        },
        "id": "hCPGapY5Id9W",
        "outputId": "b29b35ce-a339-4073-df2d-5321da788afc"
      },
      "execution_count": 229,
      "outputs": [
        {
          "output_type": "stream",
          "name": "stdout",
          "text": [
            "<class 'pandas.core.frame.DataFrame'>\n",
            "RangeIndex: 178 entries, 0 to 177\n",
            "Data columns (total 16 columns):\n",
            " #   Column                        Non-Null Count  Dtype   \n",
            "---  ------                        --------------  -----   \n",
            " 0   alcohol                       178 non-null    float64 \n",
            " 1   malic_acid                    178 non-null    float64 \n",
            " 2   ash                           178 non-null    float64 \n",
            " 3   alcalinity_of_ash             178 non-null    float64 \n",
            " 4   magnesium                     178 non-null    float64 \n",
            " 5   total_phenols                 178 non-null    float64 \n",
            " 6   flavanoids                    178 non-null    float64 \n",
            " 7   nonflavanoid_phenols          178 non-null    float64 \n",
            " 8   proanthocyanins               178 non-null    float64 \n",
            " 9   color_intensity               178 non-null    float64 \n",
            " 10  hue                           178 non-null    float64 \n",
            " 11  od280/od315_of_diluted_wines  178 non-null    float64 \n",
            " 12  proline                       178 non-null    float64 \n",
            " 13  target_names                  178 non-null    float64 \n",
            " 14  binned                        145 non-null    category\n",
            " 15  magnesium_rate                145 non-null    category\n",
            "dtypes: category(2), float64(14)\n",
            "memory usage: 20.4 KB\n"
          ]
        },
        {
          "output_type": "stream",
          "name": "stderr",
          "text": [
            "/usr/local/lib/python3.8/dist-packages/seaborn/_decorators.py:36: FutureWarning: Pass the following variable as a keyword arg: x. From version 0.12, the only valid positional argument will be `data`, and passing other arguments without an explicit keyword will result in an error or misinterpretation.\n",
            "  warnings.warn(\n"
          ]
        },
        {
          "output_type": "execute_result",
          "data": {
            "text/plain": [
              "<matplotlib.axes._subplots.AxesSubplot at 0x7f40ec8c1b50>"
            ]
          },
          "metadata": {},
          "execution_count": 229
        },
        {
          "output_type": "display_data",
          "data": {
            "text/plain": [
              "<Figure size 432x288 with 1 Axes>"
            ],
            "image/png": "[encoded data removed]"
          },
          "metadata": {
            "needs_background": "light"
          }
        }
      ]
    },
    {
      "cell_type": "code",
      "source": [
        "np.random.seed(64) # initialize a random seed, this will help us make the random stuff reproducible.\n",
        "\n",
        "df = df.drop('magnesium_rate', axis=1)\n",
        "df = df.drop('binned', axis=1)\n",
        "\n",
        "X = df.drop('target_names', axis=1)\n",
        "y = df['target_names']\n",
        "x_train, x_test, y_train, y_test = train_test_split(X, y, stratify=y)"
      ],
      "metadata": {
        "id": "ievYF_ijb6FJ"
      },
      "execution_count": 230,
      "outputs": []
    },
    {
      "cell_type": "code",
      "source": [
        "model = KNeighborsClassifier()\n",
        "model.fit(x_train, y_train)\n",
        "pred = model.predict(x_test)\n",
        "print('score on training set:', model.score(x_train, y_train))\n",
        "print('score on test set:', model.score(x_test, y_test))\n",
        "print(classification_report(y_true=y_test, y_pred=pred))"
      ],
      "metadata": {
        "colab": {
          "base_uri": "https://localhost:8080/"
        },
        "id": "Abbj6DyOcGFF",
        "outputId": "936b7a53-d931-4a77-f737-c1d37a72d9aa"
      },
      "execution_count": 231,
      "outputs": [
        {
          "output_type": "stream",
          "name": "stdout",
          "text": [
            "score on training set: 0.8045112781954887\n",
            "score on test set: 0.6888888888888889\n",
            "              precision    recall  f1-score   support\n",
            "\n",
            "         0.0       0.78      0.93      0.85        15\n",
            "         1.0       0.70      0.39      0.50        18\n",
            "         2.0       0.59      0.83      0.69        12\n",
            "\n",
            "    accuracy                           0.69        45\n",
            "   macro avg       0.69      0.72      0.68        45\n",
            "weighted avg       0.70      0.69      0.67        45\n",
            "\n"
          ]
        }
      ]
    },
    {
      "cell_type": "code",
      "source": [
        "np.random.seed(64) # initialize a random seed, this will help us make the random stuff reproducible.\n",
        "\n",
        "X.drop('total_phenols', axis=1, inplace =True) # delete one of the correlating features\n",
        "x_train, x_test, y_train, y_test = train_test_split(X, y, stratify=y) # split the data again\n",
        "\n",
        "#fit the same model again and print the scores\n",
        "model.fit(x_train, y_train)\n",
        "pred = model.predict(x_test)\n",
        "print('score on training set:', model.score(x_train, y_train))\n",
        "print('score on test set:', model.score(x_test, y_test))\n",
        "print(classification_report(y_true=y_test, y_pred=pred))"
      ],
      "metadata": {
        "colab": {
          "base_uri": "https://localhost:8080/"
        },
        "id": "gEy8HpOwdXWU",
        "outputId": "6190ecbc-38d5-4fe2-fc3c-5e004b5c5d8b"
      },
      "execution_count": 232,
      "outputs": [
        {
          "output_type": "stream",
          "name": "stdout",
          "text": [
            "score on training set: 0.8045112781954887\n",
            "score on test set: 0.6888888888888889\n",
            "              precision    recall  f1-score   support\n",
            "\n",
            "         0.0       0.78      0.93      0.85        15\n",
            "         1.0       0.70      0.39      0.50        18\n",
            "         2.0       0.59      0.83      0.69        12\n",
            "\n",
            "    accuracy                           0.69        45\n",
            "   macro avg       0.69      0.72      0.68        45\n",
            "weighted avg       0.70      0.69      0.67        45\n",
            "\n"
          ]
        }
      ]
    },
    {
      "cell_type": "markdown",
      "source": [
        "#Feature Extraction using PCA, LDA"
      ],
      "metadata": {
        "id": "CygeBDc_IVXP"
      }
    },
    {
      "cell_type": "code",
      "source": [
        "# LDA\n",
        "\n",
        "X = df.iloc[:, 0:13].values\n",
        "y = df.iloc[:, 13].values\n",
        "\n",
        "X_train, X_test, y_train, y_test = train_test_split(X, y, test_size=0.2, random_state=0)\n",
        "sc = StandardScaler()\n",
        "X_train = sc.fit_transform(X_train)\n",
        "X_test = sc.transform(X_test)\n",
        "\n",
        "lda = LDA(n_components=1)\n",
        "X_train = lda.fit_transform(X_train, y_train)\n",
        "X_test = lda.transform(X_test)\n",
        "\n",
        "classifier = RandomForestClassifier(max_depth=2, random_state=0)\n",
        "\n",
        "classifier.fit(X_train, y_train)\n",
        "y_pred = classifier.predict(X_test)\n",
        "\n",
        "print('Accuracy ' + str(accuracy_score(y_test, y_pred)))"
      ],
      "metadata": {
        "colab": {
          "base_uri": "https://localhost:8080/"
        },
        "id": "CXv5Q0oGiAXH",
        "outputId": "c7b4cec3-6dc3-447f-e19e-04db5812d351"
      },
      "execution_count": 233,
      "outputs": [
        {
          "output_type": "stream",
          "name": "stdout",
          "text": [
            "Accuracy 0.8611111111111112\n"
          ]
        }
      ]
    },
    {
      "cell_type": "code",
      "source": [
        "X = np.random.random((25,3))\n",
        "print(X)"
      ],
      "metadata": {
        "id": "Pek_X34Nfx1g",
        "colab": {
          "base_uri": "https://localhost:8080/"
        },
        "outputId": "8c4e7e94-8201-4ff1-ae53-1ad32cfcf0ed"
      },
      "execution_count": 234,
      "outputs": [
        {
          "output_type": "stream",
          "name": "stdout",
          "text": [
            "[[0.3935599  0.09127837 0.36214869]\n",
            " [0.91205176 0.34325716 0.64652372]\n",
            " [0.91455337 0.94699259 0.16499357]\n",
            " [0.02330477 0.20889611 0.15592718]\n",
            " [0.83264977 0.82405119 0.90937754]\n",
            " [0.88169649 0.11829157 0.12588233]\n",
            " [0.95712492 0.43250336 0.69963949]\n",
            " [0.62123663 0.25834661 0.06612058]\n",
            " [0.08738233 0.64737553 0.17309207]\n",
            " [0.79881069 0.25873546 0.8805493 ]\n",
            " [0.98099749 0.18570031 0.47720293]\n",
            " [0.72522073 0.39558286 0.28402297]\n",
            " [0.57360056 0.77403205 0.07537768]\n",
            " [0.52269287 0.72905134 0.99734831]\n",
            " [0.77587289 0.91767371 0.64493204]\n",
            " [0.57887778 0.91956238 0.50573841]\n",
            " [0.73386077 0.39192193 0.23549997]\n",
            " [0.39006982 0.17995806 0.67133185]\n",
            " [0.22962989 0.93128459 0.84469673]\n",
            " [0.19869428 0.05590165 0.47183167]\n",
            " [0.87196831 0.40113814 0.35498085]\n",
            " [0.16834766 0.44483561 0.57398082]\n",
            " [0.85509222 0.94830422 0.59879882]\n",
            " [0.89521894 0.25210234 0.28324278]\n",
            " [0.34920544 0.62615601 0.67083096]]\n"
          ]
        }
      ]
    },
    {
      "cell_type": "code",
      "source": [
        "# PCA\n",
        "\n",
        "plt.scatter(X[:,0], X[:,1])\n",
        "plt.show()\n",
        "\n",
        "pca1 = PCA(n_components=1) # extract 1 principal components\n",
        "X_R1 = pca.fit_transform(X) # reduced X\n",
        "\n",
        "plt.scatter(X_R1[:,0], X_R1[:,1])\n",
        "plt.show()\n",
        "\n",
        "pca2 = PCA(n_components=2) # extract 2 principal components\n",
        "X_R2 = pca.fit_transform(X) # reduced X\n",
        "\n",
        "plt.scatter(X_R2[:,0], X_R2[:,1])\n",
        "plt.show()"
      ],
      "metadata": {
        "colab": {
          "base_uri": "https://localhost:8080/",
          "height": 770
        },
        "id": "6G2hu4ncIUK2",
        "outputId": "808dc272-7295-43a4-d531-5254140c3512"
      },
      "execution_count": 235,
      "outputs": [
        {
          "output_type": "display_data",
          "data": {
            "text/plain": [
              "<Figure size 432x288 with 1 Axes>"
            ],
            "image/png": "[encoded data removed]"
          },
          "metadata": {
            "needs_background": "light"
          }
        },
        {
          "output_type": "display_data",
          "data": {
            "text/plain": [
              "<Figure size 432x288 with 1 Axes>"
            ],
            "image/png": "[encoded data removed]"
          },
          "metadata": {
            "needs_background": "light"
          }
        },
        {
          "output_type": "display_data",
          "data": {
            "text/plain": [
              "<Figure size 432x288 with 1 Axes>"
            ],
            "image/png": "[encoded data removed]"
          },
          "metadata": {
            "needs_background": "light"
          }
        }
      ]
    },
    {
      "cell_type": "markdown",
      "source": [
        "#Matplotlib - Line Plot, Scatter Plot, Barchart, Histogram, Box Plot"
      ],
      "metadata": {
        "id": "NW1cxi0X6-zI"
      }
    },
    {
      "cell_type": "code",
      "source": [
        "df_IRIS = pd.DataFrame(data= iris['data'])\n",
        "df_IRIS.columns = ['Sepal length','Sepal width','Petal length','Petal width']\n",
        "\n",
        "df_IRIS1 = pd.DataFrame(data= np.c_[iris['data'], iris['target']])\n",
        "df_IRIS1.columns = ['Sepal_length','Sepal_width','Petal_length','Petal_width','Flower_species']"
      ],
      "metadata": {
        "id": "X7sHe8QMGoYc"
      },
      "execution_count": 236,
      "outputs": []
    },
    {
      "cell_type": "code",
      "source": [
        "# Line Plot\n",
        "\n",
        "plt.plot(iris.data[:, 1:2], iris.target, color='red', marker='o')\n",
        "plt.title('Iris Dataset - Line Plot', fontsize=14)\n",
        "plt.xlabel('Features - SepalLength in cm', fontsize=14)\n",
        "plt.ylabel('Target - Flower Species', fontsize=14)\n",
        "plt.grid(True)\n",
        "plt.show()"
      ],
      "metadata": {
        "id": "dSlw1wTL69zZ",
        "colab": {
          "base_uri": "https://localhost:8080/",
          "height": 303
        },
        "outputId": "18855ea2-c2ee-4415-9013-ae5a3d51c596"
      },
      "execution_count": 237,
      "outputs": [
        {
          "output_type": "display_data",
          "data": {
            "text/plain": [
              "<Figure size 432x288 with 1 Axes>"
            ],
            "image/png": "[encoded data removed]"
          },
          "metadata": {
            "needs_background": "light"
          }
        }
      ]
    },
    {
      "cell_type": "code",
      "source": [
        "# Scatter Plot\n",
        "\n",
        "# The indices of the features that we are plotting\n",
        "x_index = 0 # Sepal length\n",
        "y_index = 1 # Sepal width\n",
        "# this formatter will label the colorbar with the correct target names\n",
        "formatter = plt.FuncFormatter(lambda i, *args: iris.target_names[int(i)])\n",
        "plt.figure(figsize=(5, 4))\n",
        "plt.scatter(iris.data[:, x_index], iris.data[:, y_index], c=iris.target)\n",
        "plt.colorbar(ticks=[0, 1, 2], format=formatter)\n",
        "plt.title('Iris Dataset - Scatter Plot', fontsize=14)\n",
        "plt.xlabel(iris.feature_names[x_index])\n",
        "plt.ylabel(iris.feature_names[y_index])\n",
        "plt.tight_layout()\n",
        "plt.show()"
      ],
      "metadata": {
        "id": "9Ppr_ZiT-bAG",
        "colab": {
          "base_uri": "https://localhost:8080/",
          "height": 297
        },
        "outputId": "b47830d8-0900-40cd-b8db-46b8cde1e143"
      },
      "execution_count": 238,
      "outputs": [
        {
          "output_type": "display_data",
          "data": {
            "text/plain": [
              "<Figure size 360x288 with 2 Axes>"
            ],
            "image/png": "[encoded data removed]"
          },
          "metadata": {
            "needs_background": "light"
          }
        }
      ]
    },
    {
      "cell_type": "code",
      "source": [
        "# Bar Chart\n",
        "\n",
        "df = df_IRIS1.groupby('Flower_species')['Petal_length'].sum().to_frame().reset_index()\n",
        "#Creating the bar chart \n",
        "plt.bar(df['Flower_species'],df['Petal_length'],color = ['cornflowerblue','lightseagreen','steelblue']) \n",
        "#Adding the aesthetics\n",
        "plt.title('Iris Dataset - Bar Chart')\n",
        "plt.xlabel('Flower Species')\n",
        "plt.ylabel('Petal length') \n",
        "#Show the plot\n",
        "plt.show()"
      ],
      "metadata": {
        "id": "iMNbAcObGUH8",
        "colab": {
          "base_uri": "https://localhost:8080/",
          "height": 301
        },
        "outputId": "8737659c-b67f-4314-fb14-1bbb6ac467db"
      },
      "execution_count": 239,
      "outputs": [
        {
          "output_type": "display_data",
          "data": {
            "text/plain": [
              "<Figure size 432x288 with 1 Axes>"
            ],
            "image/png": "[encoded data removed]"
          },
          "metadata": {
            "needs_background": "light"
          }
        }
      ]
    },
    {
      "cell_type": "code",
      "source": [
        "# Histogram\n",
        "\n",
        "plt.figure(figsize = (5, 3))\n",
        "x = iris.data[:, 2] \n",
        "plt.hist(x, bins = 20, color = \"green\")\n",
        "plt.title('Iris Dataset - Histogram', fontsize=14)\n",
        "plt.xlabel(\"Petal_Width in cm\", fontsize=14)\n",
        "plt.ylabel(\"Count\", fontsize=14) \n",
        "plt.show()"
      ],
      "metadata": {
        "id": "UKEmGDb37y3B",
        "colab": {
          "base_uri": "https://localhost:8080/",
          "height": 249
        },
        "outputId": "b85fe22f-28b2-40df-d57a-a8358b407f50"
      },
      "execution_count": 240,
      "outputs": [
        {
          "output_type": "display_data",
          "data": {
            "text/plain": [
              "<Figure size 360x216 with 1 Axes>"
            ],
            "image/png": "[encoded data removed]"
          },
          "metadata": {
            "needs_background": "light"
          }
        }
      ]
    },
    {
      "cell_type": "code",
      "source": [
        "# Box plot\n",
        "\n",
        "box_data = df_IRIS\n",
        "sns.boxplot(data = box_data,width=0.5,fliersize=5)\n",
        "plt.title('Iris Dataset - Box Plot', fontsize=14)\n",
        "sns.set(rc={'figure.figsize':(7,5)})"
      ],
      "metadata": {
        "id": "P-ta77S9-noJ",
        "colab": {
          "base_uri": "https://localhost:8080/",
          "height": 285
        },
        "outputId": "930e63c5-2507-4a33-b478-440bd7c39d99"
      },
      "execution_count": 241,
      "outputs": [
        {
          "output_type": "display_data",
          "data": {
            "text/plain": [
              "<Figure size 432x288 with 1 Axes>"
            ],
            "image/png": "[encoded data removed]"
          },
          "metadata": {
            "needs_background": "light"
          }
        }
      ]
    },
    {
      "cell_type": "markdown",
      "source": [
        "**Submitted By**\n",
        "\n",
        "---\n",
        "Aneetta Sara Shany - *MTech CSE Software Engineering*\n",
        "\n",
        "**Guide**\n",
        "\n",
        "---\n",
        "Dr. Shailesh Sivan"
      ],
      "metadata": {
        "id": "koF2xzjOjQto"
      }
    }
  ]
}